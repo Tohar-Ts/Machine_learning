{
  "nbformat": 4,
  "nbformat_minor": 0,
  "metadata": {
    "colab": {
      "name": "MachineLearningEx1.ipynb",
      "provenance": [],
      "collapsed_sections": [],
      "toc_visible": true,
      "include_colab_link": true
    },
    "kernelspec": {
      "name": "python3",
      "display_name": "Python 3"
    },
    "language_info": {
      "name": "python"
    }
  },
  "cells": [
    {
      "cell_type": "markdown",
      "metadata": {
        "id": "view-in-github",
        "colab_type": "text"
      },
      "source": [
        "<a href=\"https://colab.research.google.com/github/Tohar-Ts/Machine_learning/blob/ex1/MachineLearningEx1.ipynb\" target=\"_parent\"><img src=\"https://colab.research.google.com/assets/colab-badge.svg\" alt=\"Open In Colab\"/></a>"
      ]
    },
    {
      "cell_type": "code",
      "metadata": {
        "id": "SEbO2I4RSInG",
        "colab": {
          "base_uri": "https://localhost:8080/"
        },
        "outputId": "17cf982e-74c6-482a-92cc-76114fade437"
      },
      "source": [
        "import numpy as np\n",
        "import csv\n",
        "from matplotlib import pyplot as plt\n",
        "%matplotlib inline \n",
        "import matplotlib\n",
        "from google.colab import drive\n",
        "drive.mount('/content/drive')\n",
        "#create matrix and y vector:\n",
        "reader = csv.reader(open(\"/content/drive/MyDrive/ml/EX1/regression.csv\", \"r\"), delimiter=\",\")\n",
        "x = list(reader)\n",
        "data = np.array(x)\n",
        "y = data[:,-1]\n",
        "# print(y)\n",
        "new_column = np.full_like(y, 1)\n",
        "data = np.column_stack((new_column, data))\n",
        "data = data[:,:10]\n",
        "#normalaize data:\n",
        "col= 10\n",
        "for i in range(1 , col):\n",
        "  x = data[:, i: i+1]\n",
        "  x = x.astype(np.float)\n",
        "  x = np.transpose(x)\n",
        "  avg = np.average(x)\n",
        "  std = np.std(x)\n",
        "  for j in range (len(x)):\n",
        "    x[j] = np.round((x[j] - avg)/std , 3)\n",
        "  x = np.transpose(x)  \n",
        "  data[:, i: i+1] = x\n",
        "data = data.astype(np.float)\n",
        "y = y.astype(np.float)\n",
        "print('X matrix:\\n', data, '\\nY vector:\\n', y)\n",
        "#"
      ],
      "execution_count": null,
      "outputs": [
        {
          "output_type": "stream",
          "text": [
            "Drive already mounted at /content/drive; to attempt to forcibly remount, call drive.mount(\"/content/drive\", force_remount=True).\n",
            "X matrix:\n",
            " [[ 1.     0.558  0.562 ... -0.132 -0.511 -0.084]\n",
            " [ 1.    -0.306 -0.23  ... -0.271 -1.411 -1.596]\n",
            " [ 1.    -0.356 -0.27  ... -0.006  0.848  0.691]\n",
            " ...\n",
            " [ 1.     0.958 -0.278 ... -0.317 -1.736 -2.068]\n",
            " [ 1.     0.958 -0.266 ... -0.138 -0.511 -0.311]\n",
            " [ 1.     0.958 -0.274 ... -0.421 -2.693 -2.862]] \n",
            "Y vector:\n",
            " [164.9 161.3 174.7 ... 153.9 175.  213.6]\n"
          ],
          "name": "stdout"
        }
      ]
    },
    {
      "cell_type": "markdown",
      "metadata": {
        "id": "S5OOcai4jtpJ"
      },
      "source": [
        "sec b: function that recives Theta vector and X matrix and returns h(t)"
      ]
    },
    {
      "cell_type": "code",
      "metadata": {
        "id": "kDpvOo7GkRNb"
      },
      "source": [
        "def calculateH (theta, x):\n",
        "  h = np.dot(x,theta)\n",
        "  return h\n"
      ],
      "execution_count": null,
      "outputs": []
    },
    {
      "cell_type": "code",
      "metadata": {
        "colab": {
          "base_uri": "https://localhost:8080/"
        },
        "id": "RPaX_K-xpm3q",
        "outputId": "cc468951-5a8c-483b-85e7-ed2f2d362944"
      },
      "source": [
        "#test\n",
        "t = [1]*10\n",
        "print(calculateH(t, data[0]))\n",
        "print(calculateH(t, data))\n"
      ],
      "execution_count": null,
      "outputs": [
        {
          "output_type": "stream",
          "text": [
            "2.979\n",
            "[ 2.979 -3.309 -0.314 ... -2.505  0.343 -5.347]\n"
          ],
          "name": "stdout"
        }
      ]
    },
    {
      "cell_type": "markdown",
      "metadata": {
        "id": "ZacHvf1voxfl"
      },
      "source": [
        "sec c: function that recives X ,Theta and Y and returns J(t)"
      ]
    },
    {
      "cell_type": "code",
      "metadata": {
        "id": "FXFhq4lQpAdB"
      },
      "source": [
        "def calculateJ (theta, x, y):\n",
        "  m = x.shape[0]\n",
        "  h = calculateH(theta, x)\n",
        "  j = h - y\n",
        "  j = np.square(j)\n",
        "  j = np.sum(j)\n",
        "  j = j/(2*m)\n",
        "  return j\n",
        "  "
      ],
      "execution_count": null,
      "outputs": []
    },
    {
      "cell_type": "code",
      "metadata": {
        "colab": {
          "base_uri": "https://localhost:8080/"
        },
        "id": "-YJRK4e7rgbd",
        "outputId": "a35571fe-fab6-4a1a-be54-f04fa667350f"
      },
      "source": [
        "#test\n",
        "t = [1,1,1,1,1,1,1,1,1,1]\n",
        "print(calculateJ(t, data, y))"
      ],
      "execution_count": null,
      "outputs": [
        {
          "output_type": "stream",
          "text": [
            "16171.44053136659\n"
          ],
          "name": "stdout"
        }
      ]
    },
    {
      "cell_type": "markdown",
      "metadata": {
        "id": "JkSV22icwh0B"
      },
      "source": [
        "sec d: function that recieves X, Y, Theta and calculate the gradiente of J"
      ]
    },
    {
      "cell_type": "code",
      "metadata": {
        "id": "rnOh3OPKwzsw"
      },
      "source": [
        "def calculateGradJ(theta, x, y):\n",
        "  m = x.shape[0] - 1\n",
        "  xt = np.transpose(x)\n",
        "  h = calculateH(theta, x)\n",
        "  gj = xt.dot(h-y)\n",
        "  gj = 1/m * gj\n",
        "  return gj"
      ],
      "execution_count": null,
      "outputs": []
    },
    {
      "cell_type": "code",
      "metadata": {
        "colab": {
          "base_uri": "https://localhost:8080/"
        },
        "id": "H6pjS_wow9PI",
        "outputId": "588a9090-2db7-4014-8bec-16dd5e5005b4"
      },
      "source": [
        "#test\n",
        "t = [1,1,1,1,1,1,1,1,1,1]\n",
        "print(calculateGradJ(t, data, y))\n",
        "grad = calculateGradJ(t, data, y)\n",
        "assert(grad.shape[0] != [data.shape[1],])\n"
      ],
      "execution_count": null,
      "outputs": [
        {
          "output_type": "stream",
          "text": [
            "[-177.72234406    6.78415411    5.33377701  -11.31194284   12.57725938\n",
            "    6.0567456   -12.35785173    1.03570799    1.9016037     0.9675322 ]\n"
          ],
          "name": "stdout"
        }
      ]
    },
    {
      "cell_type": "markdown",
      "metadata": {
        "id": "_dO9IaxH6E27"
      },
      "source": [
        "sec e: Gradient Decsent"
      ]
    },
    {
      "cell_type": "code",
      "metadata": {
        "id": "EAN2yooK6QWc"
      },
      "source": [
        "def gradientDecsent (x,y,a = 0.01):\n",
        "  epsilon = 0.01\n",
        "  n = x.shape[1] #columns\n",
        "  maxIteretion = 100\n",
        "  k = 0\n",
        "  tOld = np.zeros((n, 1)) #for halt condition\n",
        "  t = np.ones((n,1))\n",
        "  jOld = 0\n",
        "  j = calculateJ(t,x,y)\n",
        "  x_coordinate = []\n",
        "  y_coordinate  = []\n",
        "  while(k < maxIteretion and  np.linalg.norm(t - tOld) >epsilon):\n",
        "    jOld = j\n",
        "    j = calculateJ(t,x,y)\n",
        "    y_coordinate.append(j)\n",
        "    grad = calculateGradJ(t,x,y)\n",
        "    t = t-a*grad #fix theta vector\n",
        "    k= k+1\n",
        "\n",
        "  x_coordinate = np.arange(0,k)\n",
        "  # print(t)\n",
        "  return x_coordinate, y_coordinate"
      ],
      "execution_count": null,
      "outputs": []
    },
    {
      "cell_type": "code",
      "metadata": {
        "colab": {
          "base_uri": "https://localhost:8080/",
          "height": 313
        },
        "id": "j6C4Cp9GsjOf",
        "outputId": "98d5094b-7de3-4c23-a955-3c698552701f"
      },
      "source": [
        "import time\n",
        "tic = time.time()\n",
        "x1, y1 = gradientDecsent(data, y, 0.1)\n",
        "toc = time.time()\n",
        "time1 = toc - tic\n",
        "\n",
        "tic = time.time()\n",
        "x2, y2 = gradientDecsent(data, y, 0.01)\n",
        "toc = time.time()\n",
        "time2 = toc - tic\n",
        "\n",
        "tic = time.time()\n",
        "x3, y3 = gradientDecsent(data, y, 0.001)\n",
        "toc = time.time()\n",
        "time3 = toc - tic\n",
        "avg = (time1+time2+time3)/3\n",
        "print('average running time for gradientDecsent: %f seconds' %avg)\n",
        "plt.plot(x1, y1, 'r', label='a=0.1')   # scatter plot showing actual data\n",
        "plt.plot(x2, y2, 'g', label='a=0.01')   # scatter plot showing actual data\n",
        "plt.plot(x3, y3, 'b', label='a=0.001')   # scatter plot showing actual data\n",
        "plt.title('Data')\n",
        "plt.xlabel('iterations')\n",
        "plt.ylabel('J')\n",
        "plt.legend()\n",
        "plt.show()"
      ],
      "execution_count": null,
      "outputs": [
        {
          "output_type": "stream",
          "text": [
            "average running time for gradientDecsent: 16.505936 seconds\n"
          ],
          "name": "stdout"
        },
        {
          "output_type": "display_data",
          "data": {
            "image/png": "[encoded data removed]",
            "text/plain": [
              "<Figure size 432x288 with 1 Axes>"
            ]
          },
          "metadata": {
            "tags": [],
            "needs_background": "light"
          }
        }
      ]
    },
    {
      "cell_type": "markdown",
      "metadata": {
        "id": "_IsU2eX34Bur"
      },
      "source": [
        "sec F: run stochastic GD, mini-batch and compare to gd"
      ]
    },
    {
      "cell_type": "code",
      "metadata": {
        "id": "FNaxol_K5BOZ"
      },
      "source": [
        "def stochastic(x, y, a):\n",
        "  maxIteretion = 500\n",
        "  k=0  \n",
        "  i = 0\n",
        "  epsilon = 0.01\n",
        "  jOld = 0 #for halt condition\n",
        "  m = x.shape[0] - 1 #rows\n",
        "  n = x.shape[1] #columns\n",
        "  tOld = np.zeros((n, 1)) #for halt condition\n",
        "  t = np.ones((n,1))\n",
        "  # t = t.reshape(n)\n",
        "  # tOld = tOld.reshape(n)\n",
        "  tDif = np.linalg.norm(t-tOld)\n",
        "  j = calculateJ(t, x, y)\n",
        "  x_coordinate = []\n",
        "  y_coordinate  = []\n",
        "  while(k < maxIteretion and (abs(j- jOld) > epsilon) and tDif >epsilon):\n",
        "    if( k != 0):\n",
        "      tOld = t\n",
        "      jOld = j\n",
        "    i = i % m # one example at a time, max m examples\n",
        "    j = calculateJ(t, x, y) #err function (needs to get smaller)\n",
        "    y_coordinate.append(j) \n",
        "    h = calculateH(t, x[i]) #calculate only 1 example from the x matrix\n",
        "    xt = a* x[i] *(h - y[i])\n",
        "    t = t - xt.reshape((n,1))\n",
        "    tDif = np.linalg.norm(t-tOld)\n",
        "    k= k+1\n",
        "    i= i+1\n",
        "  x_coordinate = np.arange(0,k)\n",
        "  # print(x_coordinate, '\\n', y_coordinate, '\\n',k)\n",
        "  return x_coordinate, y_coordinate"
      ],
      "execution_count": null,
      "outputs": []
    },
    {
      "cell_type": "code",
      "metadata": {
        "id": "TJfafE8H5EI7"
      },
      "source": [
        "def batches(x, y, batchSize):\n",
        "    miniBatches = []\n",
        "    batchsAmount = x.shape[0] // batchSize\n",
        "    yFlip = y.reshape(x.shape[0], 1) #change y to matrix mX1\n",
        "    d = np.append(x, yFlip, axis=1)#combain x matrix and y vector\n",
        "    np.random.shuffle(d) # mix matrix rows\n",
        "    # i = 0\n",
        "    for i in range(batchsAmount + 1):\n",
        "      if i * batchSize + (i + 1) * batchSize > x.shape[0]:\n",
        "        batchI = d[i * batchSize:d.shape[0]]\n",
        "      else:\n",
        "        batchI = d[i * batchSize:(i + 1) * batchSize, :]\n",
        "      xBatch = batchI[:, :-1]\n",
        "      yBatch = batchI[:, -1]\n",
        "      miniBatches.append((xBatch, yBatch))\n",
        "    return miniBatches\n",
        "\n",
        "\n",
        "def miniBatch(x, y, a=0.1, batchSize=32, epsilon = 0.01):\n",
        "    maxIteretion = 500\n",
        "    k=0 \n",
        "    i=0 \n",
        "    m = x.shape[0] #rows\n",
        "    n = x.shape[1] #columns\n",
        "    tOld = np.zeros((n))\n",
        "    t = np.ones((n))\n",
        "    j = calculateJ(t, x, y)\n",
        "    jOld = 0\n",
        "    x_coordinate = []\n",
        "    y_coordinate  = []\n",
        "    miniBatches = batches(x, y, batchSize)\n",
        "    while(i < maxIteretion and (np.linalg.norm(t-tOld) > epsilon) and (abs(j-jOld) > epsilon)):\n",
        "      for batch in miniBatches:\n",
        "        xBatch, yBatch = batch\n",
        "        tOld = t\n",
        "        t = t - a* calculateGradJ(t, xBatch, yBatch)\n",
        "        jOld = j\n",
        "        j = calculateJ(t, x, y)\n",
        "        y_coordinate.append(j)\n",
        "        k += 1\n",
        "        i+=1\n",
        "        x_coordinate.append(i) \n",
        "    return x_coordinate, y_coordinate"
      ],
      "execution_count": null,
      "outputs": []
    },
    {
      "cell_type": "code",
      "metadata": {
        "colab": {
          "base_uri": "https://localhost:8080/",
          "height": 587
        },
        "id": "FZNiHhh_5GaO",
        "outputId": "e435b8e2-d884-4112-ffd2-3ff5b35155da"
      },
      "source": [
        "import time\n",
        "tic = time.time()\n",
        "x4, y4 = stochastic(data, y, 0.01)\n",
        "toc = time.time()\n",
        "time1 = toc - tic\n",
        "\n",
        "tic = time.time()\n",
        "x5, y5 = miniBatch(data, y)\n",
        "toc = time.time()\n",
        "time2 = toc - tic\n",
        "\n",
        "print(\"stochastic's running time was %f seconds\" % time1)\n",
        "print(\"mini batch's running time was %f seconds\" % time2)\n",
        "p1 = plt.figure(1)\n",
        "plt.plot(x4, y4, 'r', label='stochastic') \n",
        "plt.plot(x5, y5, 'b', label='miniBatch')  \n",
        "plt.xlabel('iterations')\n",
        "plt.ylabel('J value')\n",
        "plt.legend()\n",
        "\n",
        "p1 = plt.figure(2)\n",
        "plt.plot(x5, y5, 'b', label='miniBatch')  \n",
        "plt.xlabel('iterations')\n",
        "plt.ylabel('J value')\n",
        "plt.legend()\n",
        "\n",
        "plt.show()\n",
        "\n",
        "\n"
      ],
      "execution_count": null,
      "outputs": [
        {
          "output_type": "stream",
          "text": [
            "stochastic's running time was 14.190084 seconds\n",
            "mini batch's running time was 0.056226 seconds\n"
          ],
          "name": "stdout"
        },
        {
          "output_type": "display_data",
          "data": {
            "image/png": "[encoded data removed]",
            "text/plain": [
              "<Figure size 432x288 with 1 Axes>"
            ]
          },
          "metadata": {
            "tags": [],
            "needs_background": "light"
          }
        },
        {
          "output_type": "display_data",
          "data": {
            "image/png": "[encoded data removed]",
            "text/plain": [
              "<Figure size 432x288 with 1 Axes>"
            ]
          },
          "metadata": {
            "tags": [],
            "needs_background": "light"
          }
        }
      ]
    }
  ]
}